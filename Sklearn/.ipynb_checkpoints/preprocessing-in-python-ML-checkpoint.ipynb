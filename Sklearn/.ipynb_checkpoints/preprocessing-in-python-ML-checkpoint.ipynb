{
 "cells": [
  {
   "attachments": {
    "image001.png": {
     "image/png": "[encoded data removed]"
    }
   },
   "cell_type": "markdown",
   "metadata": {
    "deletable": false,
    "editable": false
   },
   "source": [
    "![image001.png](attachment:image001.png)"
   ]
  },
  {
   "cell_type": "markdown",
   "metadata": {
    "_uuid": "4792d2f93f59e76ef97fea4eac6253165c04f5ff"
   },
   "source": [
    "# This Notebook is designed for pre processing data in Sklearn.Tutorial will have following steps\n",
    "\n",
    "1.Importing Python Modules \n",
    "\n",
    "2.Importing data \n",
    "\n",
    "3.Displaying data \n",
    "\n",
    "4.Replacing missing value with meaningful value \n",
    "\n",
    "5.Encoding catogerical data\n",
    "\n",
    "6.Splitting the data into training and test set\n",
    "\n",
    "7.Doing feature scaling on data "
   ]
  },
  {
   "cell_type": "markdown",
   "metadata": {},
   "source": [
    "#### About Sklearn \n",
    "- Simple and efficient tools for predictive data analysis\n",
    "- Accessible to everybody, and reusable in various contexts\n",
    "- Built on NumPy, SciPy, and matplotlib\n",
    "- Open source, commercially usable - BSD license"
   ]
  },
  {
   "cell_type": "markdown",
   "metadata": {
    "_cell_guid": "79c7e3d0-c299-4dcb-8224-4455121ee9b0",
    "_uuid": "d629ff2d2480ee46fbb7e2d37f6b5fab8052498a",
    "collapsed": true
   },
   "source": [
    "# Step1: Importing Python Modlues"
   ]
  },
  {
   "cell_type": "code",
   "execution_count": null,
   "metadata": {
    "_uuid": "324ae7992ceb8dcb8acdaeb3cd51aa216c3f538b"
   },
   "outputs": [],
   "source": [
    "import numpy as np\n",
    "import matplotlib.pyplot as plt\n",
    "import pandas as pd"
   ]
  },
  {
   "cell_type": "markdown",
   "metadata": {
    "_uuid": "cd302f54f60fe6080baced9ce43773cf15d253af"
   },
   "source": [
    "# Step2: Importing data "
   ]
  },
  {
   "cell_type": "markdown",
   "metadata": {},
   "source": [
    "Note: if your getting an error kindly debug it"
   ]
  },
  {
   "cell_type": "code",
   "execution_count": null,
   "metadata": {
    "_uuid": "b7389c5e82e61bf52b99f7c30e9a5b4cc6c5f93a"
   },
   "outputs": [],
   "source": [
    "data=pd.read_csv(r'Car_Purchasing_Data.csv')"
   ]
  },
  {
   "cell_type": "markdown",
   "metadata": {
    "_uuid": "e579f940a4d11f666d82cecd9d2d59375fe67428"
   },
   "source": [
    "# Step3: Displaying the data"
   ]
  },
  {
   "cell_type": "code",
   "execution_count": null,
   "metadata": {
    "_uuid": "7e2ef1eb7c8a40489eeb0417e69c2e9f8c0ce756"
   },
   "outputs": [],
   "source": [
    "data.head()"
   ]
  },
  {
   "cell_type": "markdown",
   "metadata": {
    "_uuid": "c8e0d30fee6eaa764df220e6ff6840ae6b62e2ff"
   },
   "source": [
    "Step4: Displaying data information"
   ]
  },
  {
   "cell_type": "code",
   "execution_count": null,
   "metadata": {
    "_uuid": "33c9a3f4f66dec1670066bed9da12368ae855d5a"
   },
   "outputs": [],
   "source": [
    "data.info()"
   ]
  },
  {
   "cell_type": "markdown",
   "metadata": {
    "_uuid": "2a4498678e9c333ea96a60b707a89983443f1876"
   },
   "source": [
    "There are missing values in the data in the Age, Salary related columns"
   ]
  },
  {
   "cell_type": "code",
   "execution_count": null,
   "metadata": {},
   "outputs": [],
   "source": [
    "missing_data=['Age','Annual Salary','Credit Card Debt','Net Worth']"
   ]
  },
  {
   "cell_type": "markdown",
   "metadata": {
    "_uuid": "956598aa688ca53cf7f7cf6c89fd95aac7bb4946"
   },
   "source": [
    "# Step5: Replacing missing values with the mean values of the columns"
   ]
  },
  {
   "cell_type": "code",
   "execution_count": null,
   "metadata": {
    "_uuid": "bd57673dcee2196b73a13977f806548b557f9827"
   },
   "outputs": [],
   "source": [
    "from sklearn.impute import SimpleImputer\n",
    "imputer=SimpleImputer(strategy='mean') \n",
    "imputer.fit(data[missing_data])\n",
    "X=imputer.transform(data[missing_data])\n",
    "X"
   ]
  },
  {
   "cell_type": "markdown",
   "metadata": {
    "_uuid": "37bae3d97dd2d95c5581a7ff646f4d19bf4969df"
   },
   "source": [
    "# Step6:Encoding the Catogerical data"
   ]
  },
  {
   "cell_type": "code",
   "execution_count": null,
   "metadata": {
    "_kg_hide-output": true,
    "_uuid": "07a534b8408e32bf18e585dfa133da85d9d98f2e"
   },
   "outputs": [],
   "source": [
    "from sklearn.preprocessing import LabelEncoder,OneHotEncoder\n",
    "labelencoder_X=LabelEncoder()\n",
    "X= labelencoder_X.fit_transform(data['Country']) #Encoding the values of column Country\n",
    "X"
   ]
  },
  {
   "cell_type": "code",
   "execution_count": null,
   "metadata": {},
   "outputs": [],
   "source": [
    "onehotencoder=OneHotEncoder()\n",
    "X=onehotencoder.fit_transform(data['Country'].ravel().reshape(-1,1))\n",
    "X"
   ]
  },
  {
   "cell_type": "code",
   "execution_count": null,
   "metadata": {},
   "outputs": [],
   "source": [
    "print(X)"
   ]
  },
  {
   "cell_type": "code",
   "execution_count": null,
   "metadata": {
    "_kg_hide-output": true,
    "_uuid": "b1b616612c368057a97aac8857f635fbba9d22ed"
   },
   "outputs": [],
   "source": [
    "le=LabelEncoder()\n",
    "y = le.fit_transform(data['Gender'])\n",
    "y"
   ]
  },
  {
   "cell_type": "code",
   "execution_count": null,
   "metadata": {},
   "outputs": [],
   "source": [
    "X=data[['Age','Annual Salary','Credit Card Debt','Net Worth']]\n",
    "y=data['Car Purchase Amount']"
   ]
  },
  {
   "cell_type": "markdown",
   "metadata": {
    "_uuid": "942bcbb168df375919a284b5580cd3c792a5be30"
   },
   "source": [
    "# Step7: Splitting the data into training and test data"
   ]
  },
  {
   "cell_type": "code",
   "execution_count": null,
   "metadata": {
    "_kg_hide-output": true,
    "_uuid": "5021c004053e89f665c0d9961bce4faa8d1cba74"
   },
   "outputs": [],
   "source": [
    "from sklearn.model_selection import train_test_split\n",
    "X_train,X_test,y_train,y_test=train_test_split(X,y,test_size=0.2,random_state=12345)"
   ]
  },
  {
   "cell_type": "markdown",
   "metadata": {
    "_uuid": "461c1559fd778d90a2ef1d3c40792c5ba77507c7",
    "collapsed": true
   },
   "source": [
    "# Step8: Doing a feature scaling on data"
   ]
  },
  {
   "cell_type": "code",
   "execution_count": null,
   "metadata": {
    "_uuid": "cf9ccc2aaee99b843cfef53c2a5081f32e87bd29"
   },
   "outputs": [],
   "source": [
    "from sklearn.preprocessing import StandardScaler\n",
    "sc_X=StandardScaler()\n",
    "X_train=sc_X.fit_transform(X_train)\n",
    "X_test=sc_X.fit_transform(X_test)"
   ]
  }
 ],
 "metadata": {
  "kernelspec": {
   "display_name": "Python 3",
   "language": "python",
   "name": "python3"
  },
  "language_info": {
   "codemirror_mode": {
    "name": "ipython",
    "version": 3
   },
   "file_extension": ".py",
   "mimetype": "text/x-python",
   "name": "python",
   "nbconvert_exporter": "python",
   "pygments_lexer": "ipython3",
   "version": "3.7.3"
  }
 },
 "nbformat": 4,
 "nbformat_minor": 1
}
