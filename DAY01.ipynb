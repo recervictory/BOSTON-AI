{
 "cells": [
  {
   "cell_type": "code",
   "execution_count": 7,
   "metadata": {},
   "outputs": [],
   "source": [
    "assert 2 + 2 == 2 +2, \"Its worked\""
   ]
  },
  {
   "cell_type": "code",
   "execution_count": 2,
   "metadata": {},
   "outputs": [
    {
     "data": {
      "text/plain": [
       "20"
      ]
     },
     "execution_count": 2,
     "metadata": {},
     "output_type": "execute_result"
    }
   ],
   "source": [
    "50 - 5 * 6"
   ]
  },
  {
   "cell_type": "code",
   "execution_count": 3,
   "metadata": {},
   "outputs": [
    {
     "data": {
      "text/plain": [
       "5.0"
      ]
     },
     "execution_count": 3,
     "metadata": {},
     "output_type": "execute_result"
    }
   ],
   "source": [
    "(50 -5 *6) /4"
   ]
  },
  {
   "cell_type": "code",
   "execution_count": 4,
   "metadata": {},
   "outputs": [
    {
     "data": {
      "text/plain": [
       "1.6"
      ]
     },
     "execution_count": 4,
     "metadata": {},
     "output_type": "execute_result"
    }
   ],
   "source": [
    "8/5"
   ]
  },
  {
   "cell_type": "code",
   "execution_count": 8,
   "metadata": {},
   "outputs": [
    {
     "data": {
      "text/plain": [
       "2"
      ]
     },
     "execution_count": 8,
     "metadata": {},
     "output_type": "execute_result"
    }
   ],
   "source": [
    "17 % 3"
   ]
  },
  {
   "cell_type": "code",
   "execution_count": 1,
   "metadata": {},
   "outputs": [
    {
     "data": {
      "text/plain": [
       "'0b1010100110'"
      ]
     },
     "execution_count": 1,
     "metadata": {},
     "output_type": "execute_result"
    }
   ],
   "source": [
    "bin(678)\n",
    "    "
   ]
  },
  {
   "cell_type": "code",
   "execution_count": 2,
   "metadata": {},
   "outputs": [
    {
     "data": {
      "text/plain": [
       "'ton'"
      ]
     },
     "execution_count": 2,
     "metadata": {},
     "output_type": "execute_result"
    }
   ],
   "source": [
    "\"Boston\"[-3:]"
   ]
  },
  {
   "cell_type": "code",
   "execution_count": 3,
   "metadata": {},
   "outputs": [
    {
     "data": {
      "text/plain": [
       "[5, 5, 34, 2, 1]"
      ]
     },
     "execution_count": 3,
     "metadata": {},
     "output_type": "execute_result"
    }
   ],
   "source": [
    "square = [1,2,34,5,5]\n",
    "square.reverse()\n",
    "square"
   ]
  },
  {
   "cell_type": "code",
   "execution_count": 11,
   "metadata": {},
   "outputs": [
    {
     "data": {
      "text/plain": [
       "'tso'"
      ]
     },
     "execution_count": 11,
     "metadata": {},
     "output_type": "execute_result"
    }
   ],
   "source": [
    "\"boston\"[3:0:-1]"
   ]
  },
  {
   "cell_type": "code",
   "execution_count": 14,
   "metadata": {},
   "outputs": [
    {
     "data": {
      "text/plain": [
       "False"
      ]
     },
     "execution_count": 14,
     "metadata": {},
     "output_type": "execute_result"
    }
   ],
   "source": [
    "[1,1] in [[1,2],[2,3]]"
   ]
  },
  {
   "cell_type": "code",
   "execution_count": 16,
   "metadata": {},
   "outputs": [
    {
     "data": {
      "text/plain": [
       "False"
      ]
     },
     "execution_count": 16,
     "metadata": {},
     "output_type": "execute_result"
    }
   ],
   "source": [
    "True if 2 != 2 else False"
   ]
  },
  {
   "cell_type": "code",
   "execution_count": 1,
   "metadata": {},
   "outputs": [],
   "source": [
    "# print odd even\n",
    "oddEven = lambda x: x % 2 == 0 "
   ]
  },
  {
   "cell_type": "code",
   "execution_count": 3,
   "metadata": {},
   "outputs": [
    {
     "data": {
      "text/plain": [
       "False"
      ]
     },
     "execution_count": 3,
     "metadata": {},
     "output_type": "execute_result"
    }
   ],
   "source": [
    "oddEven(1)"
   ]
  },
  {
   "cell_type": "code",
   "execution_count": 13,
   "metadata": {},
   "outputs": [],
   "source": [
    "def isprime(num):\n",
    "    for i in range(2,num//2):\n",
    "        if num % i == 0:\n",
    "            return False\n",
    "    return True"
   ]
  },
  {
   "cell_type": "code",
   "execution_count": 20,
   "metadata": {},
   "outputs": [
    {
     "data": {
      "text/plain": [
       "[1, 4, 9, 16]"
      ]
     },
     "execution_count": 20,
     "metadata": {},
     "output_type": "execute_result"
    }
   ],
   "source": [
    "list(map(lambda x: x * x, [1,2,3,4]))\n",
    "    "
   ]
  },
  {
   "cell_type": "code",
   "execution_count": 29,
   "metadata": {},
   "outputs": [],
   "source": [
    "from test import isprimetest"
   ]
  },
  {
   "cell_type": "code",
   "execution_count": 28,
   "metadata": {},
   "outputs": [
    {
     "data": {
      "text/plain": [
       "True"
      ]
     },
     "execution_count": 28,
     "metadata": {},
     "output_type": "execute_result"
    }
   ],
   "source": [
    "isprimetest(5)"
   ]
  },
  {
   "cell_type": "markdown",
   "metadata": {},
   "source": [
    "COVID-DATASET EXERCISE \n",
    "country = ['India', 'UK', \"India\",\"UK\",\"China\",\"USA\",\"China\",\"China\"] deaths = [10, 20, 30,40,1,23,56,1]\n",
    "\n",
    "Task 1: Make a dict with Key as country value as deaths\n",
    "\n",
    "Task 2: How many Total deaths have occurred in each country the result should be displayed as a Dict\n",
    "15 mins solve this.....\n",
    "\n",
    "Task 3: Find the unique country name in the given list: \n",
    "['India', 'UK', \"India\",\"UK\",\"china\",\"USA\",\"China\",\"China\",”INDIA”,”RUSSIA”,”United Kingdom”]\n",
    "\n",
    "Basic programs \n",
    "-\tCan you write a program to find the average of odd numbers in the given list?\n",
    "-\tWrite a Python Program to Find the third Largest Number in the given list?\n",
    "-\tWrite a Python Program to find the count of Even and odd numbers in the given list? \n",
    "-\tWrite a Python Program to find the sum of all Even and odd numbers in the given list? \n",
    "-\tWrite a Python Program to find the Avg. of numbers which are multiples of 7 in the given list? \n",
    "Data= [68, 71, 21, 68, 32, 80, 64, 52, 92, 97, 93, 37, 61, 62, 23, 81, 67, 84, 33, 41, 92, 51, 71, 52, 92, 43, 80, 74, 69, 92, 79, 78, 70, 31, 34, 79, 73, 77, 96, 87, 53, 47, 85, 58, 58, 87, 44, 29, 94, 23, 65, 49, 71, 57, 96, 74, 30, 65, 62, 85, 34, 21, 81, 79, 84, 87, 22, 45, 59, 91, 26, 22, 46, 71, 60, 21, 67, 21, 56, 38, 82, 95, 77, 55, 37,61, 59, 89, 61, 75, 97, 72, 58, 23, 78, 20, 95, 67, 59, 56, 93, 82,35, 78, 94, 67, 25, 95, 90, 80, 78, 73, 91, 52, 59, 96, 46, 94, 99,78, 53, 40, 67, 76, 73, 46, 77, 40, 34, 38, 34, 42, 69, 86, 61, 76,21, 90, 52, 65, 36, 93, 55, 86, 95, 65, 30, 89, 86, 20, 92, 46, 58,75, 43, 57, 53, 42, 43, 37, 26, 90, 58, 31, 73, 71, 63, 70, 72, 78,26, 39, 35, 58, 84, 56, 24, 73, 36, 75, 32, 35, 56, 87, 87, 73, 80,78, 25, 61, 38, 94, 36, 90, 70, 65, 34, 61, 44, 85, 41, 50, 23, 34,20, 87, 84, 30, 21, 84, 65, 85, 88, 73, 54, 47, 77, 41, 35, 71]\n"
   ]
  },
  {
   "cell_type": "code",
   "execution_count": 8,
   "metadata": {},
   "outputs": [
    {
     "data": {
      "text/plain": [
       "{'India': 30, 'UK': 40, 'China': 1, 'USA': 23}"
      ]
     },
     "execution_count": 8,
     "metadata": {},
     "output_type": "execute_result"
    }
   ],
   "source": [
    "country = ['India', 'UK', \"India\",\"UK\",\"China\",\"USA\",\"China\",\"China\"] \n",
    "deaths = [10, 20, 30,40,1,23,56,1]\n",
    "dict(zip(country,deaths))"
   ]
  },
  {
   "cell_type": "code",
   "execution_count": 7,
   "metadata": {},
   "outputs": [
    {
     "data": {
      "text/plain": [
       "{'India': 40, 'UK': 60, 'China': 58, 'USA': 23}"
      ]
     },
     "execution_count": 7,
     "metadata": {},
     "output_type": "execute_result"
    }
   ],
   "source": [
    "Dict = {} # Empty Dict\n",
    "for c,d in zip(country,deaths):\n",
    "    if c not in Dict:\n",
    "        Dict[c] = d\n",
    "    else:\n",
    "        Dict[c] += d \n",
    "Dict"
   ]
  },
  {
   "cell_type": "code",
   "execution_count": 12,
   "metadata": {},
   "outputs": [
    {
     "data": {
      "text/plain": [
       "{'India': 30, 'UK': 40, 'China': 1, 'USA': 23}"
      ]
     },
     "execution_count": 12,
     "metadata": {},
     "output_type": "execute_result"
    }
   ],
   "source": [
    "{c: d for c,d in zip(country,deaths) }"
   ]
  },
  {
   "cell_type": "code",
   "execution_count": 9,
   "metadata": {},
   "outputs": [
    {
     "data": {
      "text/plain": [
       "{'China', 'INDIA', 'India', 'RUSSIA', 'UK', 'USA', 'United Kingdom', 'china'}"
      ]
     },
     "execution_count": 9,
     "metadata": {},
     "output_type": "execute_result"
    }
   ],
   "source": [
    "set(['India', 'UK', \"India\",\"UK\",\"china\",\"USA\",\"China\",\"China\",\"INDIA\",\"RUSSIA\",\"United Kingdom\"])"
   ]
  },
  {
   "cell_type": "code",
   "execution_count": 10,
   "metadata": {},
   "outputs": [
    {
     "data": {
      "text/plain": [
       "[0, 1, 2, 3, 4, 5, 6, 7, 8, 9]"
      ]
     },
     "execution_count": 10,
     "metadata": {},
     "output_type": "execute_result"
    }
   ],
   "source": [
    "lst = list(range(10))\n",
    "lst"
   ]
  },
  {
   "cell_type": "code",
   "execution_count": 24,
   "metadata": {},
   "outputs": [
    {
     "data": {
      "text/plain": [
       "5"
      ]
     },
     "execution_count": 24,
     "metadata": {},
     "output_type": "execute_result"
    }
   ],
   "source": [
    "# Can you write a program to find the average of odd numbers in the given list?\n",
    "\n",
    "oddlist = list(filter(lambda x: x % 2 != 0, lst))\n",
    "sum(oddlist) // len(oddlist)"
   ]
  },
  {
   "cell_type": "code",
   "execution_count": 28,
   "metadata": {},
   "outputs": [
    {
     "data": {
      "text/plain": [
       "8"
      ]
     },
     "execution_count": 28,
     "metadata": {},
     "output_type": "execute_result"
    }
   ],
   "source": [
    "# Write a Python Program to Find the third Largest Number in the given list?\n",
    "lst.sort()\n",
    "lst[-2]"
   ]
  },
  {
   "cell_type": "code",
   "execution_count": 38,
   "metadata": {},
   "outputs": [
    {
     "data": {
      "text/plain": [
       "(3, 2)"
      ]
     },
     "execution_count": 38,
     "metadata": {},
     "output_type": "execute_result"
    }
   ],
   "source": [
    "# Write a Python Program to find the count of Even and odd numbers in the given list?\n",
    "lst = [1,23,34,66,6]\n",
    "len([num  for num in lst if num % 2 == 0]), len([num  for num in lst if num % 2 != 0])"
   ]
  },
  {
   "cell_type": "code",
   "execution_count": 39,
   "metadata": {},
   "outputs": [
    {
     "data": {
      "text/plain": [
       "(106, 24)"
      ]
     },
     "execution_count": 39,
     "metadata": {},
     "output_type": "execute_result"
    }
   ],
   "source": [
    "# Write a Python Program to find the sum of all Even and odd numbers in the given list?\n",
    "sum([num  for num in lst if num % 2 == 0]), sum([num  for num in lst if num % 2 != 0]) "
   ]
  },
  {
   "cell_type": "code",
   "execution_count": 42,
   "metadata": {},
   "outputs": [
    {
     "data": {
      "text/plain": [
       "56.4375"
      ]
     },
     "execution_count": 42,
     "metadata": {},
     "output_type": "execute_result"
    }
   ],
   "source": [
    "# Write a Python Program to find the Avg. of numbers which are multiples of 7 in the given list? \n",
    "Data = [68, 71, 21, 68, 32, 80, 64, 52, 92, 97, 93, 37, 61, 62, 23, 81, 67, 84, 33, 41, 92, 51, 71, 52, 92, 43, 80, 74, 69, 92, 79, 78, 70, 31, 34, 79, 73, 77, 96, 87, 53, 47, 85, 58, 58, 87, 44, 29, 94, 23, 65, 49, 71, 57, 96, 74, 30, 65, 62, 85, 34, 21, 81, 79, 84, 87, 22, 45, 59, 91, 26, 22, 46, 71, 60, 21, 67, 21, 56, 38, 82, 95, 77, 55, 37,61, 59, 89, 61, 75, 97, 72, 58, 23, 78, 20, 95, 67, 59, 56, 93, 82,35, 78, 94, 67, 25, 95, 90, 80, 78, 73, 91, 52, 59, 96, 46, 94, 99,78, 53, 40, 67, 76, 73, 46, 77, 40, 34, 38, 34, 42, 69, 86, 61, 76,21, 90, 52, 65, 36, 93, 55, 86, 95, 65, 30, 89, 86, 20, 92, 46, 58,75, 43, 57, 53, 42, 43, 37, 26, 90, 58, 31, 73, 71, 63, 70, 72, 78,26, 39, 35, 58, 84, 56, 24, 73, 36, 75, 32, 35, 56, 87, 87, 73, 80,78, 25, 61, 38, 94, 36, 90, 70, 65, 34, 61, 44, 85, 41, 50, 23, 34,20, 87, 84, 30, 21, 84, 65, 85, 88, 73, 54, 47, 77, 41, 35, 71]\n",
    "\n",
    "seven = [num for num in Data if num % 7 == 0]\n",
    "sum(seven)/ len(seven)"
   ]
  },
  {
   "cell_type": "code",
   "execution_count": null,
   "metadata": {},
   "outputs": [],
   "source": []
  }
 ],
 "metadata": {
  "interpreter": {
   "hash": "7dae6437c12b1d87f00e0e10a4bd22be66a3b8ec05fb1161d95372f28c39fa9e"
  },
  "kernelspec": {
   "display_name": "Python 3.8.8 64-bit ('base': conda)",
   "language": "python",
   "name": "python3"
  },
  "language_info": {
   "codemirror_mode": {
    "name": "ipython",
    "version": 3
   },
   "file_extension": ".py",
   "mimetype": "text/x-python",
   "name": "python",
   "nbconvert_exporter": "python",
   "pygments_lexer": "ipython3",
   "version": "3.8.8"
  },
  "orig_nbformat": 4
 },
 "nbformat": 4,
 "nbformat_minor": 2
}
